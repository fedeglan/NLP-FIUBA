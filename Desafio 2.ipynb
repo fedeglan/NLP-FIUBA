{
 "cells": [
  {
   "cell_type": "markdown",
   "metadata": {},
   "source": [
    "Tomar un ejemplo de los bots utilizados la clase 2 (uno de los dos bots implementados) y construir el propio.\n",
    "\n",
    "Sacar conclusiones de los resultados."
   ]
  },
  {
   "cell_type": "code",
   "execution_count": 1,
   "metadata": {},
   "outputs": [
    {
     "ename": "",
     "evalue": "",
     "output_type": "error",
     "traceback": [
      "\u001b[1;31mCannot execute code, session has been disposed. Please try restarting the Kernel."
     ]
    },
    {
     "ename": "",
     "evalue": "",
     "output_type": "error",
     "traceback": [
      "\u001b[1;31mThe Kernel crashed while executing code in the the current cell or a previous cell. Please review the code in the cell(s) to identify a possible cause of the failure. Click <a href='https://aka.ms/vscodeJupyterKernelCrash'>here</a> for more info. View Jupyter <a href='command:jupyter.viewOutput'>log</a> for further details."
     ]
    }
   ],
   "source": [
    "import random \n",
    "import numpy as np\n",
    "import tensorflow as tf \n",
    "from tensorflow.keras import Sequential\n",
    "from tensorflow.keras.layers import Dense, Dropout"
   ]
  },
  {
   "cell_type": "code",
   "execution_count": null,
   "metadata": {},
   "outputs": [],
   "source": [
    "!python -m spacy download es_core_news_sm"
   ]
  },
  {
   "cell_type": "code",
   "execution_count": null,
   "metadata": {},
   "outputs": [],
   "source": [
    "import spacy"
   ]
  },
  {
   "cell_type": "code",
   "execution_count": 1,
   "metadata": {},
   "outputs": [
    {
     "ename": "NameError",
     "evalue": "name 'spacy' is not defined",
     "output_type": "error",
     "traceback": [
      "\u001b[0;31m---------------------------------------------------------------------------\u001b[0m",
      "\u001b[0;31mNameError\u001b[0m                                 Traceback (most recent call last)",
      "Cell \u001b[0;32mIn[1], line 1\u001b[0m\n\u001b[0;32m----> 1\u001b[0m nlp \u001b[39m=\u001b[39m spacy\u001b[39m.\u001b[39mload(\u001b[39m\"\u001b[39m\u001b[39mes_core_news_sm\u001b[39m\u001b[39m\"\u001b[39m)\n\u001b[1;32m      3\u001b[0m \u001b[39mclass\u001b[39;00m \u001b[39mPreprocessing\u001b[39;00m:\n\u001b[1;32m      4\u001b[0m     \u001b[39mdef\u001b[39;00m \u001b[39m__init__\u001b[39m(\u001b[39mself\u001b[39m, dataset):\n",
      "\u001b[0;31mNameError\u001b[0m: name 'spacy' is not defined"
     ]
    }
   ],
   "source": [
    "nlp = spacy.load(\"es_core_news_sm\")\n",
    "\n",
    "class Preprocessing:\n",
    "    def __init__(self, dataset):\n",
    "        self.dataset = dataset\n",
    "        self.words = []\n",
    "        self.classes = []\n",
    "        self.doc_X = []\n",
    "        self.doc_y = []\n",
    "\n",
    "    def preprocess_clean_text(self, text):\n",
    "        # Puedes agregar más lógica de limpieza de texto aquí si es necesario\n",
    "        return text\n",
    "\n",
    "    def tokenize_and_lemmatize(self):\n",
    "        for intent in self.dataset[\"intents\"]:\n",
    "            for pattern in intent[\"patterns\"]:\n",
    "                tokens = nlp(self.preprocess_clean_text(pattern.lower()))\n",
    "                for token in tokens:            \n",
    "                    self.words.append(token.lemma_)\n",
    "                self.doc_X.append(pattern)\n",
    "                self.doc_y.append(intent[\"tag\"])\n",
    "            if intent[\"tag\"] not in self.classes:\n",
    "                self.classes.append(intent[\"tag\"])\n",
    "\n",
    "        self.words = sorted(set(self.words))\n",
    "        self.classes = sorted(set(self.classes))\n",
    "\n",
    "    def transform_data(self):\n",
    "        training = []\n",
    "        out_empty = [0] * len(self.classes)\n",
    "        for idx, doc in enumerate(self.doc_X):\n",
    "            text = []\n",
    "            tokens = nlp(self.preprocess_clean_text(doc.lower()))\n",
    "            for token in tokens:\n",
    "                text.append(token.lemma_)\n",
    "            \n",
    "            bow = [1 if word in text else 0 for word in self.words]\n",
    "            \n",
    "            output_row = list(out_empty)\n",
    "            output_row[self.classes.index(self.doc_y[idx])] = 1\n",
    "\n",
    "            training.append([bow, output_row])\n",
    "\n",
    "        random.shuffle(training)\n",
    "        training = np.array(training, dtype=object)\n",
    "        train_X = np.array(list(training[:, 0]))\n",
    "        train_y = np.array(list(training[:, 1]))\n",
    "\n",
    "        input_shape = (train_X.shape[1],)\n",
    "        output_shape = train_y.shape[1]\n",
    "\n",
    "        return train_X, train_y, input_shape, output_shape\n",
    "\n",
    "class DNNModel:\n",
    "    def __init__(self, input_shape, output_shape):\n",
    "        self.model = Sequential([\n",
    "            Dense(128, input_shape=input_shape, activation=\"relu\"),\n",
    "            Dropout(0.5),\n",
    "            Dense(64, activation=\"relu\"),\n",
    "            Dropout(0.5),\n",
    "            Dense(output_shape, activation=\"softmax\")\n",
    "        ])\n",
    "\n",
    "        self.model.compile(loss='categorical_crossentropy', optimizer='Adam', metrics=['accuracy'])\n",
    "\n",
    "    def summary(self):\n",
    "        print(self.model.summary())\n",
    "\n",
    "    def fit(self, X, y, epochs=200, batch_size=5):\n",
    "        self.model.fit(X, y, epochs=epochs, batch_size=batch_size)\n",
    "\n",
    "class ChatBot:\n",
    "    def __init__(self, model, words, classes, dataset):\n",
    "        self.model = model\n",
    "        self.words = words\n",
    "        self.classes = classes\n",
    "        self.dataset = dataset\n",
    "\n",
    "    def text_to_tokens(self, text):\n",
    "        lemma_tokens = []\n",
    "        tokens = nlp(text.lower())\n",
    "        for token in tokens:\n",
    "            lemma_tokens.append(token.lemma_)\n",
    "        return lemma_tokens\n",
    "\n",
    "    def bag_of_words(self, text):\n",
    "        tokens = self.text_to_tokens(text)\n",
    "        bow = [1 if word in tokens else 0 for word in self.words]\n",
    "        return np.array(bow)\n",
    "\n",
    "    def pred_class(self, text, thresh=0.2):\n",
    "        bow = self.bag_of_words(text)\n",
    "        words_recognized = sum(bow)\n",
    "        \n",
    "        return_list = []\n",
    "        if words_recognized > 0:\n",
    "            result = self.model.predict(np.array([bow]))[0]\n",
    "            y_pred = [[idx, res] for idx, res in enumerate(result) if res > thresh]\n",
    "            y_pred.sort(key=lambda x: x[1], reverse=True)\n",
    "\n",
    "            for r in y_pred:\n",
    "                return_list.append(self.classes[r[0]])\n",
    "        return return_list\n",
    "\n",
    "    def get_response(self, intents_list):\n",
    "        tag = intents_list[0]\n",
    "        list_of_intents = self.dataset[\"intents\"]\n",
    "        for i in list_of_intents:\n",
    "            if i[\"tag\"] == tag:\n",
    "                result = random.choice(i[\"responses\"])\n",
    "                break\n",
    "        return result\n",
    "\n",
    "    def chat(self):\n",
    "        while True:\n",
    "            message = input(\"\")\n",
    "            intents = self.pred_class(message)\n",
    "            if intents:\n",
    "                response = self.get_response(intents)\n",
    "                print(f\"BOT: {response}\")\n",
    "            else:\n",
    "                print(\"BOT: Perdón, no comprendo la pregunta.\")\n"
   ]
  },
  {
   "cell_type": "code",
   "execution_count": null,
   "metadata": {},
   "outputs": [],
   "source": []
  }
 ],
 "metadata": {
  "kernelspec": {
   "display_name": "base",
   "language": "python",
   "name": "python3"
  },
  "language_info": {
   "codemirror_mode": {
    "name": "ipython",
    "version": 3
   },
   "file_extension": ".py",
   "mimetype": "text/x-python",
   "name": "python",
   "nbconvert_exporter": "python",
   "pygments_lexer": "ipython3",
   "version": "3.9.13"
  },
  "orig_nbformat": 4
 },
 "nbformat": 4,
 "nbformat_minor": 2
}
